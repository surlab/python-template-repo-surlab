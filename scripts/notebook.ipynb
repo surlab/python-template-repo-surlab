{
 "cells": [
  {
   "cell_type": "markdown",
   "id": "bb076a2a",
   "metadata": {
    "colab_type": "text",
    "id": "view-in-github"
   },
   "source": [
    "<a href=\"https://colab.research.google.com/github/GreggHeller1/replace_with_env_name/blob/main/scripts/notebook.ipynb\" target=\"_parent\"><img src=\"https://colab.research.google.com/assets/colab-badge.svg\" alt=\"Open In Colab\"/></a>"
   ]
  },
  {
   "cell_type": "code",
   "execution_count": 1,
   "id": "71ee021b",
   "metadata": {
    "id": "71ee021b"
   },
   "outputs": [
    {
     "name": "stdout",
     "output_type": "stream",
     "text": [
      "False\n"
     ]
    }
   ],
   "source": [
    "#settings\n",
    "%load_ext autoreload\n",
    "%autoreload 2\n",
    "try:\n",
    "  import google.colab\n",
    "  in_colab = True\n",
    "except:\n",
    "  in_colab = False\n",
    "print(in_colab)"
   ]
  },
  {
   "cell_type": "code",
   "execution_count": 2,
   "id": "4e02e926",
   "metadata": {
    "colab": {
     "base_uri": "https://localhost:8080/"
    },
    "id": "4e02e926",
    "lines_to_next_cell": 2,
    "outputId": "84475a29-508b-4d96-adf5-e85665e994d2"
   },
   "outputs": [],
   "source": [
    "#installs (for colab only, run this once)\n",
    "if in_colab:\n",
    "    ! git clone https://github.com/GreggHeller1/replace_with_env_name.git"
   ]
  },
  {
   "cell_type": "code",
   "execution_count": 3,
   "id": "5e9731ca",
   "metadata": {
    "id": "5e9731ca",
    "lines_to_next_cell": 2
   },
   "outputs": [],
   "source": [
    "#local imports\n",
    "#cwd if in colab for imports to work\n",
    "if in_colab:\n",
    "    %cd /content/replace_with_env_name\n",
    "    \n",
    "from src import data_io as io\n",
    "from src import plotting as plot\n",
    "from src import computation as comp\n",
    "from src import helper_functions as hf"
   ]
  },
  {
   "cell_type": "code",
   "execution_count": 4,
   "id": "db51ef2e",
   "metadata": {
    "id": "db51ef2e",
    "lines_to_next_cell": 0
   },
   "outputs": [],
   "source": [
    "#imports\n",
    "import xarray as xr\n",
    "#import pandas as pd\n",
    "import numpy as np\n",
    "import ipdb\n",
    "\n",
    "\n",
    "from matplotlib import pyplot as plt\n",
    "\n",
    "from PIL import Image #this needs to be after matplotlib??\n",
    "from scipy.stats import stats   \n",
    "\n",
    "\n",
    "import os\n",
    "#from neuron import h, gui"
   ]
  },
  {
   "cell_type": "code",
   "execution_count": null,
   "id": "21f269b7-272d-444f-9bc5-e2ab193b947d",
   "metadata": {},
   "outputs": [],
   "source": []
  },
  {
   "cell_type": "code",
   "execution_count": null,
   "id": "c418ab3c",
   "metadata": {
    "lines_to_next_cell": 2
   },
   "outputs": [],
   "source": []
  },
  {
   "cell_type": "code",
   "execution_count": 6,
   "id": "a06b6e4a",
   "metadata": {
    "colab": {
     "base_uri": "https://localhost:8080/"
    },
    "id": "a06b6e4a",
    "lines_to_next_cell": 2,
    "outputId": "989c69e2-c8c4-43e0-9ba6-7a36f66be4c3"
   },
   "outputs": [
    {
     "name": "stdout",
     "output_type": "stream",
     "text": [
      "demo_data/test.txt\n",
      "/Users/Gregg/code/replace_with_env_name/scripts\n",
      "True\n",
      "True\n",
      "True\n"
     ]
    }
   ],
   "source": [
    "#define paths\n",
    "#cwd if in colab for file loading to work\n",
    "if in_colab:\n",
    "    %cd /content/replace_with_env_name/scripts\n",
    "    \n",
    "test_path = os.path.join('demo_data', 'test.txt')\n",
    "print(test_path)\n",
    "print(os.getcwd())\n",
    "print(os.path.exists(test_path))\n",
    "\n",
    "\n",
    "soma_path = \"/Users/Gregg/code/replace_with_env_name/scripts/demo_data/ASC26_cell_3_soma.mat\"\n",
    "spines_path = \"/Users/Gregg/code/replace_with_env_name/scripts/demo_data/ASC26_cell_3_spines.mat\"\n",
    "spines_path = \"/Users/Gregg/Dropbox (MIT)/2021 Gregg Sur rotation/ASC_experimental_data/2022-11 Soma Data/ASC15.mat\"\n",
    "print(os.path.exists(soma_path))\n",
    "print(os.path.exists(spines_path))"
   ]
  },
  {
   "cell_type": "code",
   "execution_count": 7,
   "id": "b3586a50",
   "metadata": {
    "colab": {
     "base_uri": "https://localhost:8080/"
    },
    "id": "b3586a50",
    "lines_to_next_cell": 2,
    "outputId": "56f159c6-3dbc-4b37-d217-083fb5d2e792"
   },
   "outputs": [],
   "source": [
    "#data inputs\n",
    "#io.readfile(test_path)\n",
    "soma = io.loadmat(soma_path)\n",
    "spine_data = io.loadmat(spines_path)\n",
    "soma_data = soma"
   ]
  },
  {
   "cell_type": "code",
   "execution_count": 15,
   "id": "82a5927b",
   "metadata": {
    "id": "82a5927b",
    "lines_to_next_cell": 2
   },
   "outputs": [
    {
     "ename": "AttributeError",
     "evalue": "'mat_struct' object has no attribute 'shape'",
     "output_type": "error",
     "traceback": [
      "\u001b[0;31m---------------------------------------------------------------------------\u001b[0m",
      "\u001b[0;31mAttributeError\u001b[0m                            Traceback (most recent call last)",
      "Cell \u001b[0;32mIn[15], line 4\u001b[0m\n\u001b[1;32m      2\u001b[0m spines \u001b[38;5;241m=\u001b[39m spine_data\n\u001b[1;32m      3\u001b[0m \u001b[38;5;28mtype\u001b[39m(spines)\n\u001b[0;32m----> 4\u001b[0m \u001b[38;5;28mprint\u001b[39m(\u001b[43mspines\u001b[49m\u001b[43m[\u001b[49m\u001b[38;5;241;43m0\u001b[39;49m\u001b[43m]\u001b[49m\u001b[38;5;241;43m.\u001b[39;49m\u001b[43mshape\u001b[49m)\n\u001b[1;32m      7\u001b[0m \u001b[38;5;28mprint\u001b[39m(soma[\u001b[38;5;241m3\u001b[39m])\n\u001b[1;32m      8\u001b[0m \u001b[38;5;28mprint\u001b[39m(spines[\u001b[38;5;124m'\u001b[39m\u001b[38;5;124mdend_cell\u001b[39m\u001b[38;5;124m'\u001b[39m])\n",
      "\u001b[0;31mAttributeError\u001b[0m: 'mat_struct' object has no attribute 'shape'"
     ]
    }
   ],
   "source": [
    "#data manipulation\n",
    "spines = spine_data\n",
    "type(spines)\n",
    "print(spines[0].shape)\n",
    "\n",
    "\n",
    "print(soma[3])\n",
    "print(spines['dend_cell'])\n",
    "\n",
    "#print(np.shape(soma['soma_cell']))\n",
    "#print(np.shape(spines['dend_cell']))\n",
    "\n",
    "\n",
    "\n",
    "#print(soma['soma_cell'][0,3]._fieldnames)\n"
   ]
  },
  {
   "cell_type": "code",
   "execution_count": 20,
   "id": "8efd74a4",
   "metadata": {},
   "outputs": [
    {
     "ename": "KeyError",
     "evalue": "'dend_cell'",
     "output_type": "error",
     "traceback": [
      "\u001b[0;31m---------------------------------------------------------------------------\u001b[0m",
      "\u001b[0;31mKeyError\u001b[0m                                  Traceback (most recent call last)",
      "Cell \u001b[0;32mIn[20], line 9\u001b[0m\n\u001b[1;32m      6\u001b[0m soma_field_2 \u001b[38;5;241m=\u001b[39m io\u001b[38;5;241m.\u001b[39m_todict(soma[\u001b[38;5;241m2\u001b[39m])\n\u001b[1;32m      8\u001b[0m spine_field_2 \u001b[38;5;241m=\u001b[39m io\u001b[38;5;241m.\u001b[39m_todict(soma[\u001b[38;5;241m2\u001b[39m])\n\u001b[0;32m----> 9\u001b[0m ref \u001b[38;5;241m=\u001b[39m \u001b[43mspine_field_2\u001b[49m\u001b[43m[\u001b[49m\u001b[38;5;124;43m'\u001b[39;49m\u001b[38;5;124;43mdend_cell\u001b[39;49m\u001b[38;5;124;43m'\u001b[39;49m\u001b[43m]\u001b[49m[\u001b[38;5;241m2\u001b[39m,\u001b[38;5;241m0\u001b[39m]\n\u001b[1;32m     10\u001b[0m spine_field_2 \u001b[38;5;241m=\u001b[39m spines[ref]\n",
      "\u001b[0;31mKeyError\u001b[0m: 'dend_cell'"
     ]
    }
   ],
   "source": [
    "#print(spines.keys())\n",
    "#print(np.shape(soma[3]))\n",
    "#print(soma[3].keys())\n",
    "\n",
    "\n",
    "soma_field_2 = io._todict(soma[2])\n",
    "\n",
    "spine_field_2 = io._todict(soma[2])\n",
    "#ref = spine_field_2['dend_cell'][2,0]\n",
    "#spine_field_2 = spines[ref]#['DSI']\n",
    "\n",
    "#print(np.array(field_2))\n",
    "#print(field_2['vis_stim_times'])\n",
    "\n",
    "#spines_f2 = \n"
   ]
  },
  {
   "cell_type": "code",
   "execution_count": 21,
   "id": "d3c68604-4f4d-4a07-b75a-d3f1a4fcabbb",
   "metadata": {},
   "outputs": [
    {
     "name": "stdout",
     "output_type": "stream",
     "text": [
      "(16, 10, 91)\n"
     ]
    }
   ],
   "source": [
    "print(spine_field_2['trial_traces'].shape)"
   ]
  },
  {
   "cell_type": "code",
   "execution_count": 10,
   "id": "8654cd26",
   "metadata": {},
   "outputs": [
    {
     "name": "stdout",
     "output_type": "stream",
     "text": [
      "11\n",
      "(16, 10, 91)\n",
      "(16, 10, 91)\n"
     ]
    }
   ],
   "source": [
    "soma_traces = np.array(soma_field_2['trial_traces'])\n",
    "spine_traces = np.array(spine_field_2['trial_traces'][:,:,0,:,0].swapaxes(0,-1))\n",
    "\n",
    "fovs = spine_data['dend_cell'][2,:].shape[0]\n",
    "print(fovs)\n",
    "\n",
    "print(soma_traces.shape)\n",
    "print(spine_traces.shape)\n",
    "\n",
    "\n",
    "#trial_amps = np.array(field_2['trial_amp'])\n",
    "#print(trial_amps.shape)"
   ]
  },
  {
   "cell_type": "code",
   "execution_count": 36,
   "id": "f17441b3-7dc1-4131-a469-7166d218bfdf",
   "metadata": {},
   "outputs": [],
   "source": [
    "soma_traces = hf.get_traces(soma_data)\n",
    "spine_traces = hf.get_traces(spine_data)"
   ]
  },
  {
   "cell_type": "code",
   "execution_count": 37,
   "id": "6ee54e86-35b2-48a0-83b6-ce4ae7335d6c",
   "metadata": {},
   "outputs": [
    {
     "name": "stdout",
     "output_type": "stream",
     "text": [
      "1\n"
     ]
    }
   ],
   "source": [
    "metadata = hf.get_spine_metadata(spine_data, fov_num = 0)\n",
    "print(len(hf.get_neck_length(spine_data)['stem_stats']))"
   ]
  },
  {
   "cell_type": "code",
   "execution_count": 38,
   "id": "3736ba15-6844-4bb4-a81d-0d974711bd02",
   "metadata": {
    "lines_to_next_cell": 2
   },
   "outputs": [],
   "source": [
    "soma_sub_traces = comp.select_timesteps(soma_traces)"
   ]
  },
  {
   "cell_type": "code",
   "execution_count": 39,
   "id": "afdc8e9e-6978-4d5b-9a74-5aafc3f77f25",
   "metadata": {},
   "outputs": [
    {
     "data": {
      "text/plain": [
       "<Figure size 640x480 with 8 Axes>"
      ]
     },
     "metadata": {},
     "output_type": "display_data"
    }
   ],
   "source": [
    "plot.plot_activity_plots(soma_sub_traces)"
   ]
  },
  {
   "cell_type": "code",
   "execution_count": 40,
   "id": "526b42f7-489e-4f3f-ac9d-e8616b0ff1b2",
   "metadata": {},
   "outputs": [
    {
     "data": {
      "text/plain": [
       "[<matplotlib.lines.Line2D at 0x7fb3c33a3be0>]"
      ]
     },
     "execution_count": 40,
     "metadata": {},
     "output_type": "execute_result"
    },
    {
     "data": {
      "text/plain": [
       "<Figure size 640x480 with 1 Axes>"
      ]
     },
     "metadata": {},
     "output_type": "display_data"
    }
   ],
   "source": [
    "plt.plot(hf.get_precomputed_tuning_curve(soma_data))"
   ]
  },
  {
   "cell_type": "code",
   "execution_count": 48,
   "id": "6e7635e6-c7fa-4943-94cd-7032b5aec5b2",
   "metadata": {
    "lines_to_next_cell": 2
   },
   "outputs": [
    {
     "ename": "AttributeError",
     "evalue": "module 'src.computation' has no attribute 'get_summed_trial_sampled_spine_trace'",
     "output_type": "error",
     "traceback": [
      "\u001b[0;31m---------------------------------------------------------------------------\u001b[0m",
      "\u001b[0;31mAttributeError\u001b[0m                            Traceback (most recent call last)",
      "Cell \u001b[0;32mIn[48], line 1\u001b[0m\n\u001b[0;32m----> 1\u001b[0m summed_spine_traces_1 \u001b[38;5;241m=\u001b[39m \u001b[43mcomp\u001b[49m\u001b[38;5;241;43m.\u001b[39;49m\u001b[43mget_summed_trial_sampled_spine_trace\u001b[49m(spine_data)\n\u001b[1;32m      2\u001b[0m sum_spine_sub_traces \u001b[38;5;241m=\u001b[39m comp\u001b[38;5;241m.\u001b[39mselect_timesteps(summed_spine_traces_1)\n",
      "\u001b[0;31mAttributeError\u001b[0m: module 'src.computation' has no attribute 'get_summed_trial_sampled_spine_trace'"
     ]
    }
   ],
   "source": [
    "summed_spine_traces_1 = comp.get_summed_trial_sampled_spine_trace(spine_data)\n",
    "sum_spine_sub_traces = comp.select_timesteps(summed_spine_traces_1)"
   ]
  },
  {
   "cell_type": "code",
   "execution_count": 42,
   "id": "61030209-d381-48f9-a7cb-963d948924d9",
   "metadata": {},
   "outputs": [
    {
     "data": {
      "text/plain": [
       "<Figure size 640x480 with 8 Axes>"
      ]
     },
     "metadata": {},
     "output_type": "display_data"
    }
   ],
   "source": [
    "plot.plot_activity_plots(sum_spine_sub_traces)"
   ]
  },
  {
   "cell_type": "code",
   "execution_count": 43,
   "id": "1be2f924-d838-4eb6-bf87-9123b8491188",
   "metadata": {},
   "outputs": [
    {
     "name": "stdout",
     "output_type": "stream",
     "text": [
      "         3 function calls in 0.000 seconds\n",
      "\n",
      "   Ordered by: standard name\n",
      "\n",
      "   ncalls  tottime  percall  cumtime  percall filename:lineno(function)\n",
      "        1    0.000    0.000    0.000    0.000 <string>:1(<module>)\n",
      "        1    0.000    0.000    0.000    0.000 {built-in method builtins.exec}\n",
      "        1    0.000    0.000    0.000    0.000 {method 'disable' of '_lsprof.Profiler' objects}\n",
      "\n",
      "\n"
     ]
    },
    {
     "ename": "AttributeError",
     "evalue": "module 'src.computation' has no attribute 'get_summed_trial_sampled_spine_trace'",
     "output_type": "error",
     "traceback": [
      "\u001b[0;31m---------------------------------------------------------------------------\u001b[0m",
      "\u001b[0;31mAttributeError\u001b[0m                            Traceback (most recent call last)",
      "Cell \u001b[0;32mIn[43], line 2\u001b[0m\n\u001b[1;32m      1\u001b[0m \u001b[38;5;28;01mimport\u001b[39;00m \u001b[38;5;21;01mcProfile\u001b[39;00m\n\u001b[0;32m----> 2\u001b[0m \u001b[43mcProfile\u001b[49m\u001b[38;5;241;43m.\u001b[39;49m\u001b[43mrun\u001b[49m\u001b[43m(\u001b[49m\u001b[38;5;124;43m'\u001b[39;49m\u001b[38;5;124;43msummed_spine_traces = comp.get_summed_trial_sampled_spine_trace(spine_data)\u001b[39;49m\u001b[38;5;124;43m'\u001b[39;49m\u001b[43m)\u001b[49m\n\u001b[1;32m      4\u001b[0m \u001b[38;5;66;03m#summed_spine_traces = comp.get_summed_trial_sampled_spine_trace(spine_data)\u001b[39;00m\n\u001b[1;32m      5\u001b[0m sum_spine_sub_traces \u001b[38;5;241m=\u001b[39m comp\u001b[38;5;241m.\u001b[39mselect_timesteps(summed_spine_traces)\n",
      "File \u001b[0;32m~/anaconda/envs/adult_spine_models/lib/python3.10/cProfile.py:16\u001b[0m, in \u001b[0;36mrun\u001b[0;34m(statement, filename, sort)\u001b[0m\n\u001b[1;32m     15\u001b[0m \u001b[38;5;28;01mdef\u001b[39;00m \u001b[38;5;21mrun\u001b[39m(statement, filename\u001b[38;5;241m=\u001b[39m\u001b[38;5;28;01mNone\u001b[39;00m, sort\u001b[38;5;241m=\u001b[39m\u001b[38;5;241m-\u001b[39m\u001b[38;5;241m1\u001b[39m):\n\u001b[0;32m---> 16\u001b[0m     \u001b[38;5;28;01mreturn\u001b[39;00m \u001b[43m_pyprofile\u001b[49m\u001b[38;5;241;43m.\u001b[39;49m\u001b[43m_Utils\u001b[49m\u001b[43m(\u001b[49m\u001b[43mProfile\u001b[49m\u001b[43m)\u001b[49m\u001b[38;5;241;43m.\u001b[39;49m\u001b[43mrun\u001b[49m\u001b[43m(\u001b[49m\u001b[43mstatement\u001b[49m\u001b[43m,\u001b[49m\u001b[43m \u001b[49m\u001b[43mfilename\u001b[49m\u001b[43m,\u001b[49m\u001b[43m \u001b[49m\u001b[43msort\u001b[49m\u001b[43m)\u001b[49m\n",
      "File \u001b[0;32m~/anaconda/envs/adult_spine_models/lib/python3.10/profile.py:53\u001b[0m, in \u001b[0;36m_Utils.run\u001b[0;34m(self, statement, filename, sort)\u001b[0m\n\u001b[1;32m     51\u001b[0m prof \u001b[38;5;241m=\u001b[39m \u001b[38;5;28mself\u001b[39m\u001b[38;5;241m.\u001b[39mprofiler()\n\u001b[1;32m     52\u001b[0m \u001b[38;5;28;01mtry\u001b[39;00m:\n\u001b[0;32m---> 53\u001b[0m     \u001b[43mprof\u001b[49m\u001b[38;5;241;43m.\u001b[39;49m\u001b[43mrun\u001b[49m\u001b[43m(\u001b[49m\u001b[43mstatement\u001b[49m\u001b[43m)\u001b[49m\n\u001b[1;32m     54\u001b[0m \u001b[38;5;28;01mexcept\u001b[39;00m \u001b[38;5;167;01mSystemExit\u001b[39;00m:\n\u001b[1;32m     55\u001b[0m     \u001b[38;5;28;01mpass\u001b[39;00m\n",
      "File \u001b[0;32m~/anaconda/envs/adult_spine_models/lib/python3.10/cProfile.py:95\u001b[0m, in \u001b[0;36mProfile.run\u001b[0;34m(self, cmd)\u001b[0m\n\u001b[1;32m     93\u001b[0m \u001b[38;5;28;01mimport\u001b[39;00m \u001b[38;5;21;01m__main__\u001b[39;00m\n\u001b[1;32m     94\u001b[0m \u001b[38;5;28mdict\u001b[39m \u001b[38;5;241m=\u001b[39m __main__\u001b[38;5;241m.\u001b[39m\u001b[38;5;18m__dict__\u001b[39m\n\u001b[0;32m---> 95\u001b[0m \u001b[38;5;28;01mreturn\u001b[39;00m \u001b[38;5;28;43mself\u001b[39;49m\u001b[38;5;241;43m.\u001b[39;49m\u001b[43mrunctx\u001b[49m\u001b[43m(\u001b[49m\u001b[43mcmd\u001b[49m\u001b[43m,\u001b[49m\u001b[43m \u001b[49m\u001b[38;5;28;43mdict\u001b[39;49m\u001b[43m,\u001b[49m\u001b[43m \u001b[49m\u001b[38;5;28;43mdict\u001b[39;49m\u001b[43m)\u001b[49m\n",
      "File \u001b[0;32m~/anaconda/envs/adult_spine_models/lib/python3.10/cProfile.py:100\u001b[0m, in \u001b[0;36mProfile.runctx\u001b[0;34m(self, cmd, globals, locals)\u001b[0m\n\u001b[1;32m     98\u001b[0m \u001b[38;5;28mself\u001b[39m\u001b[38;5;241m.\u001b[39menable()\n\u001b[1;32m     99\u001b[0m \u001b[38;5;28;01mtry\u001b[39;00m:\n\u001b[0;32m--> 100\u001b[0m     \u001b[43mexec\u001b[49m\u001b[43m(\u001b[49m\u001b[43mcmd\u001b[49m\u001b[43m,\u001b[49m\u001b[43m \u001b[49m\u001b[38;5;28;43mglobals\u001b[39;49m\u001b[43m,\u001b[49m\u001b[43m \u001b[49m\u001b[38;5;28;43mlocals\u001b[39;49m\u001b[43m)\u001b[49m\n\u001b[1;32m    101\u001b[0m \u001b[38;5;28;01mfinally\u001b[39;00m:\n\u001b[1;32m    102\u001b[0m     \u001b[38;5;28mself\u001b[39m\u001b[38;5;241m.\u001b[39mdisable()\n",
      "File \u001b[0;32m<string>:1\u001b[0m\n",
      "\u001b[0;31mAttributeError\u001b[0m: module 'src.computation' has no attribute 'get_summed_trial_sampled_spine_trace'"
     ]
    }
   ],
   "source": [
    "import cProfile\n",
    "cProfile.run('summed_spine_traces = comp.get_summed_trial_sampled_spine_trace(spine_data)')\n",
    "\n",
    "#summed_spine_traces = comp.get_summed_trial_sampled_spine_trace(spine_data)\n",
    "sum_spine_sub_traces = comp.select_timesteps(summed_spine_traces)"
   ]
  },
  {
   "cell_type": "code",
   "execution_count": 45,
   "id": "178c1032-4537-4daa-ad2b-7d72d6e2cfca",
   "metadata": {},
   "outputs": [
    {
     "data": {
      "text/plain": [
       "<Figure size 640x480 with 8 Axes>"
      ]
     },
     "metadata": {},
     "output_type": "display_data"
    }
   ],
   "source": [
    "plot.plot_activity_plots(sum_spine_sub_traces)"
   ]
  },
  {
   "cell_type": "code",
   "execution_count": 55,
   "id": "4a7aa66a-92c3-4a60-ab28-cda20a07a2b5",
   "metadata": {},
   "outputs": [
    {
     "name": "stdout",
     "output_type": "stream",
     "text": [
      "(16,)\n"
     ]
    },
    {
     "ename": "NameError",
     "evalue": "name 'summed_spine_traces' is not defined",
     "output_type": "error",
     "traceback": [
      "\u001b[0;31m---------------------------------------------------------------------------\u001b[0m",
      "\u001b[0;31mNameError\u001b[0m                                 Traceback (most recent call last)",
      "Cell \u001b[0;32mIn[55], line 9\u001b[0m\n\u001b[1;32m      6\u001b[0m means \u001b[38;5;241m=\u001b[39m means\u001b[38;5;241m/\u001b[39m\u001b[38;5;28mmax\u001b[39m(means)\n\u001b[1;32m      8\u001b[0m plt\u001b[38;5;241m.\u001b[39mplot(means, label\u001b[38;5;241m=\u001b[39m\u001b[38;5;124m'\u001b[39m\u001b[38;5;124msum spines\u001b[39m\u001b[38;5;124m'\u001b[39m)\n\u001b[0;32m----> 9\u001b[0m means \u001b[38;5;241m=\u001b[39m comp\u001b[38;5;241m.\u001b[39mcompute_tuning_curve(\u001b[43msummed_spine_traces\u001b[49m)\n\u001b[1;32m     10\u001b[0m sampled_means \u001b[38;5;241m=\u001b[39m means\u001b[38;5;241m/\u001b[39m\u001b[38;5;28mmax\u001b[39m(means)\n\u001b[1;32m     12\u001b[0m plt\u001b[38;5;241m.\u001b[39mplot(sampled_means, label\u001b[38;5;241m=\u001b[39m\u001b[38;5;124m'\u001b[39m\u001b[38;5;124msum sampled spines\u001b[39m\u001b[38;5;124m'\u001b[39m)\n",
      "\u001b[0;31mNameError\u001b[0m: name 'summed_spine_traces' is not defined"
     ]
    },
    {
     "data": {
      "text/plain": [
       "<Figure size 640x480 with 1 Axes>"
      ]
     },
     "metadata": {},
     "output_type": "display_data"
    }
   ],
   "source": [
    "means = comp.compute_tuning_curve(soma_traces)\n",
    "print(means.shape)\n",
    "soma_means = means/max(means)\n",
    "plt.plot(soma_means, label='measured soma response')\n",
    "means = comp.compute_tuning_curve(summed_spine_traces_1)\n",
    "means = means/max(means)\n",
    "\n",
    "plt.plot(means, label='sum spines')\n",
    "means = comp.compute_tuning_curve(summed_spine_traces)\n",
    "sampled_means = means/max(means)\n",
    "\n",
    "plt.plot(sampled_means, label='sum sampled spines')\n",
    "\n",
    "plt.plot(hf.get_precomputed_tuning_curve(soma_data), label='kyles')\n",
    "plt.legend()\n",
    "print(f'{stats.pearsonr(soma_means, sampled_means)}')"
   ]
  },
  {
   "cell_type": "code",
   "execution_count": 138,
   "id": "e54a84be-2c63-41ed-ab4a-255224c132e6",
   "metadata": {},
   "outputs": [
    {
     "data": {
      "text/plain": [
       "<matplotlib.legend.Legend at 0x7fb3b46e9120>"
      ]
     },
     "execution_count": 138,
     "metadata": {},
     "output_type": "execute_result"
    },
    {
     "data": {
      "text/plain": [
       "<Figure size 640x480 with 1 Axes>"
      ]
     },
     "metadata": {},
     "output_type": "display_data"
    }
   ],
   "source": [
    "all_spine_activity_array, spines_per_fov_list = comp.compile_spine_traces(spine_data)\n",
    "\n",
    "model_output = comp.compute_model_output_from_random_sampled_fovs(spine_data, all_spine_activity_array, spines_per_fov_list, simulated_trials_per_stim=100)\n",
    "means = comp.compute_tuning_curve(model_output)\n",
    "means = means/max(means)\n",
    "plt.plot(means, label='democratic spines simulated response')\n",
    "plt.plot(soma_means, label='measured soma response')\n",
    "\n",
    "\n",
    "\n",
    "\n",
    "kyle_means = hf.get_precomputed_tuning_curve(soma_data)\n",
    "#mean_amp should be mean of all the trials\n",
    "#excluded trials where the baseline was elevated\n",
    "#trial amps is mean of stim on - mean o baseline, then average\n",
    "#stim on is 41-50 (0-.9)\n",
    "#baseline is 21-40 (-2:-.1)\n",
    "\n",
    "#also median and von mieses\n",
    "\n",
    "\n",
    "\n",
    "kyle_means = kyle_means/max(kyle_means)\n",
    "plt.plot(kyle_means, label = 'kyle_computed')\n",
    "\n",
    "plt.legend()\n"
   ]
  },
  {
   "cell_type": "code",
   "execution_count": null,
   "id": "b9e6968e-131d-4adc-a4e8-013706b72ba0",
   "metadata": {},
   "outputs": [],
   "source": [
    "#plot.plot_activity_plots(np.array(model_output))\n",
    "plt.imshow(plot.flatten_for_image(np.array(model_output)), aspect='auto')"
   ]
  },
  {
   "cell_type": "code",
   "execution_count": null,
   "id": "abdbb307-eb1b-417f-b78a-d06de758014e",
   "metadata": {
    "lines_to_next_cell": 2
   },
   "outputs": [],
   "source": [
    "plt.imshow(plot.flatten_for_image(soma_traces), aspect='auto')"
   ]
  },
  {
   "cell_type": "code",
   "execution_count": null,
   "id": "d01c9ea1-7748-4d60-90fa-f665ab1c0f88",
   "metadata": {
    "lines_to_next_cell": 2
   },
   "outputs": [],
   "source": [
    "\n",
    "weighted_traces = comp.weights_size_lin(spine_data, all_spine_activity_array)\n",
    "\n",
    "\n",
    "weighted_traces.shape\n",
    "\n",
    "spine = 1\n",
    "stim = 6\n",
    "pres = 0\n",
    "plt.plot(weighted_traces[spine,stim,pres,:])\n",
    "plt.plot(all_spine_activity_array[spine,stim,pres,:])\n"
   ]
  },
  {
   "cell_type": "code",
   "execution_count": 226,
   "id": "dced37d8-61f7-4edc-b770-18b79d4683e7",
   "metadata": {
    "lines_to_next_cell": 2
   },
   "outputs": [
    {
     "name": "stdout",
     "output_type": "stream",
     "text": [
      "[ 0  1  2  3  8  9 12]\n",
      "[ 0  1  3  6  9 10]\n",
      "[ 2  3  4  5  8 10 14 15 16]\n",
      "[ 0  1  2  3  4  5  6  7  9 10]\n",
      "[0 2 3 5]\n",
      "[ 0  1  3  5  6  8  9 11 12]\n",
      "[ 0  1  2  4  5  7  8 11 12 13 14]\n",
      "[ 0  1  2  3  4  5  8 11]\n",
      "[0 1 2 3 4 5 6 7]\n",
      "[ 3  5  6 11 12]\n",
      "[1 2 3 4 5]\n",
      "####\n",
      "[ 4  5  6  7 10 11 13]\n",
      "[ 2  4  5  7  8 11]\n",
      "[ 0  1  6  7  9 11 12 13]\n",
      "[ 8 11]\n",
      "[1 4 6 7 8]\n",
      "[ 2  4  7 10]\n",
      "[ 3  6  9 10 15]\n",
      "[ 6  7  9 10 12]\n",
      "[8 9]\n",
      "[ 0  1  2  4  7  8  9 10 13]\n",
      "[0]\n",
      "####\n"
     ]
    }
   ],
   "source": [
    "\n",
    "all_spine_activity_array, spines_per_fov_list = comp.compile_spine_traces(spine_data, subset='unresponsive')\n",
    "\n",
    "unresponsive_model_output = comp.compute_model_output_from_random_sampled_fovs(spine_data,\n",
    "    all_spine_activity_array, spines_per_fov_list, simulated_trials_per_stim=100,\n",
    ")\n",
    "unresponsive_means = comp.compute_tuning_curve(unresponsive_model_output)\n",
    "unresponsive_means = unresponsive_means/max(unresponsive_means)\n",
    "\n",
    "all_spine_activity_array, spines_per_fov_list = comp.compile_spine_traces(spine_data, subset='responsive')\n",
    "\n",
    "\n",
    "responsive_model_output = comp.compute_model_output_from_random_sampled_fovs(spine_data,\n",
    "    all_spine_activity_array, spines_per_fov_list, simulated_trials_per_stim=100,\n",
    ")\n",
    "responsive_means = comp.compute_tuning_curve(responsive_model_output)\n",
    "responsive_means = responsive_means/max(responsive_means)\n"
   ]
  },
  {
   "cell_type": "code",
   "execution_count": 227,
   "id": "4a2fef5f-c683-4c30-810c-f6c46ee0e377",
   "metadata": {},
   "outputs": [
    {
     "data": {
      "text/plain": [
       "<matplotlib.legend.Legend at 0x7fb388c72d40>"
      ]
     },
     "execution_count": 227,
     "metadata": {},
     "output_type": "execute_result"
    },
    {
     "data": {
      "text/plain": [
       "<Figure size 640x480 with 1 Axes>"
      ]
     },
     "metadata": {},
     "output_type": "display_data"
    }
   ],
   "source": [
    "\n",
    "plt.plot(unresponsive_means, label='unresponsive democratic')\n",
    "\n",
    "plt.plot(responsive_means, label='responsive democratic')\n",
    "\n",
    "plt.plot(means, label='all democratic spines simulated response')\n",
    "plt.plot(soma_means, label='measured soma response')\n",
    "plt.legend(bbox_to_anchor=(1.04, 1), loc=\"upper left\")"
   ]
  },
  {
   "cell_type": "code",
   "execution_count": 229,
   "id": "a0132c81-35fe-4bc7-af60-032064eae9b6",
   "metadata": {},
   "outputs": [
    {
     "data": {
      "text/plain": [
       "<matplotlib.image.AxesImage at 0x7fb397abcb80>"
      ]
     },
     "execution_count": 229,
     "metadata": {},
     "output_type": "execute_result"
    },
    {
     "data": {
      "text/plain": [
       "<Figure size 640x480 with 1 Axes>"
      ]
     },
     "metadata": {},
     "output_type": "display_data"
    }
   ],
   "source": [
    "selected_timesteps = comp.select_timesteps(np.array(unresponsive_model_output))\n",
    "new_idx = plot.sort_by_onset_time(selected_timesteps)#, plot.sort_by_mean_amp)\n",
    "ordered_traces = plot.use_as_index(new_idx, selected_timesteps)\n",
    "\n",
    "#plt.imshow(ordered_traces, aspect='auto')\n",
    "plt.imshow(plot.flatten_for_image(selected_timesteps), aspect='auto')"
   ]
  },
  {
   "cell_type": "code",
   "execution_count": 230,
   "id": "5374e831-858e-462b-8fcd-af46f754475e",
   "metadata": {},
   "outputs": [
    {
     "data": {
      "text/plain": [
       "<matplotlib.image.AxesImage at 0x7fb399218580>"
      ]
     },
     "execution_count": 230,
     "metadata": {},
     "output_type": "execute_result"
    },
    {
     "data": {
      "text/plain": [
       "<Figure size 640x480 with 1 Axes>"
      ]
     },
     "metadata": {},
     "output_type": "display_data"
    }
   ],
   "source": [
    "selected_timesteps = comp.select_timesteps(np.array(responsive_model_output))\n",
    "new_idx = plot.sort_by_onset_time(selected_timesteps)#, plot.sort_by_mean_amp)\n",
    "ordered_traces = plot.use_as_index(new_idx, selected_timesteps)\n",
    "\n",
    "#plt.imshow(ordered_traces, aspect='auto')\n",
    "plt.imshow(plot.flatten_for_image(selected_timesteps), aspect='auto')"
   ]
  },
  {
   "cell_type": "code",
   "execution_count": null,
   "id": "4a9a9826-8d50-4abe-8df2-693b901c710c",
   "metadata": {},
   "outputs": [],
   "source": [
    "all_spine_activity_array, spines_per_fov_list = comp.compile_spine_traces(spine_data)\n",
    "\n",
    "size_model_output = comp.compute_model_output_from_random_sampled_fovs(spine_data,\n",
    "    all_spine_activity_array, spines_per_fov_list, simulated_trials_per_stim=100,\n",
    "    weight_function = comp.weights_size_lin\n",
    ")\n",
    "size_means = comp.compute_tuning_curve(size_model_output)\n",
    "size_means = size_means/max(size_means)\n",
    "\n",
    "dist_model_output = comp.compute_model_output_from_random_sampled_fovs(spine_data,\n",
    "    all_spine_activity_array, spines_per_fov_list, simulated_trials_per_stim=100,\n",
    "    weight_function = comp.weights_distance_lin\n",
    ")\n",
    "dist_means = comp.compute_tuning_curve(dist_model_output)\n",
    "dist_means = dist_means/max(dist_means)"
   ]
  },
  {
   "cell_type": "code",
   "execution_count": 140,
   "id": "dd215c33-fa3c-445c-bb75-36cb1fc6860f",
   "metadata": {},
   "outputs": [
    {
     "data": {
      "text/plain": [
       "<matplotlib.legend.Legend at 0x7fb3b226c550>"
      ]
     },
     "execution_count": 140,
     "metadata": {},
     "output_type": "execute_result"
    },
    {
     "data": {
      "text/plain": [
       "<Figure size 640x480 with 1 Axes>"
      ]
     },
     "metadata": {},
     "output_type": "display_data"
    }
   ],
   "source": [
    "\n",
    "    \n",
    "plt.plot(size_means, label='weighted by size spines')\n",
    "\n",
    "plt.plot(dist_means, label='weighted by distance from soma')\n",
    "\n",
    "plt.plot(democratic_means, label='democratic spines simulated response')\n",
    "plt.plot(soma_means, label='measured soma response')\n",
    "plt.legend(bbox_to_anchor=(1.04, 1), loc=\"upper left\")"
   ]
  },
  {
   "cell_type": "code",
   "execution_count": 234,
   "id": "60d6fb2b-b4fb-41d5-8541-5c9798c8fd1f",
   "metadata": {},
   "outputs": [
    {
     "data": {
      "text/plain": [
       "<matplotlib.image.AxesImage at 0x7fb38d03a200>"
      ]
     },
     "execution_count": 234,
     "metadata": {},
     "output_type": "execute_result"
    },
    {
     "data": {
      "text/plain": [
       "<Figure size 640x480 with 1 Axes>"
      ]
     },
     "metadata": {},
     "output_type": "display_data"
    }
   ],
   "source": [
    "selected_timesteps = comp.select_timesteps(np.array(size_model_output))\n",
    "new_idx = plot.sort_by_onset_time(selected_timesteps)#, plot.sort_by_mean_amp)\n",
    "ordered_traces = plot.use_as_index(new_idx, selected_timesteps)\n",
    "\n",
    "plt.imshow(ordered_traces, aspect='auto')\n",
    "#plt.imshow(plot.flatten_for_image(selected_timesteps), aspect='auto')"
   ]
  },
  {
   "cell_type": "code",
   "execution_count": 103,
   "id": "d4ab2b90-c41c-4d1e-a89b-738919e827cd",
   "metadata": {},
   "outputs": [
    {
     "data": {
      "text/plain": [
       "<matplotlib.image.AxesImage at 0x7fb3ab6efa90>"
      ]
     },
     "execution_count": 103,
     "metadata": {},
     "output_type": "execute_result"
    },
    {
     "data": {
      "text/plain": [
       "<Figure size 640x480 with 1 Axes>"
      ]
     },
     "metadata": {},
     "output_type": "display_data"
    }
   ],
   "source": [
    "selected_timesteps = comp.select_timesteps(np.array(dist_model_output))\n",
    "new_idx = plot.sort_by_onset_time(selected_timesteps)#, plot.sort_by_mean_amp)\n",
    "ordered_traces = plot.use_as_index(new_idx, selected_timesteps)\n",
    "\n",
    "plt.imshow(ordered_traces, aspect='auto')\n",
    "#plt.imshow(plot.flatten_for_image(selected_timesteps), aspect='auto')"
   ]
  },
  {
   "cell_type": "code",
   "execution_count": 122,
   "id": "706366f8-4c0b-424a-9219-bce824b11ead",
   "metadata": {},
   "outputs": [
    {
     "data": {
      "text/plain": [
       "<matplotlib.image.AxesImage at 0x7fb3b251e7a0>"
      ]
     },
     "execution_count": 122,
     "metadata": {},
     "output_type": "execute_result"
    },
    {
     "data": {
      "text/plain": [
       "<Figure size 640x480 with 1 Axes>"
      ]
     },
     "metadata": {},
     "output_type": "display_data"
    }
   ],
   "source": [
    "selected_timesteps = comp.select_timesteps(soma_traces)\n",
    "new_idx = plot.sort_by_onset_time(selected_timesteps)#, plot.sort_by_mean_amp)\n",
    "ordered_traces = plot.use_as_index(new_idx, selected_timesteps)\n",
    "\n",
    "plt.imshow(ordered_traces, aspect='auto')\n",
    "#plt.imshow(plot.flatten_for_image(selected_timesteps), aspect='auto')"
   ]
  },
  {
   "cell_type": "code",
   "execution_count": 166,
   "id": "57ed9522-d542-4859-86fc-c98c18dc74c5",
   "metadata": {},
   "outputs": [
    {
     "name": "stdout",
     "output_type": "stream",
     "text": [
      "(136, 16, 10, 91)\n",
      "136\n",
      "[0 7 2 5 5 5 4 0 0 3 6 1 8 1 4 3 8 4 7 7 2 7 1 5 1 1 7 4 4 7 1 5 2 2 8 5 8\n",
      " 5 3 0 1 4 6 8 4 1 3 7 6 7 4 4 6 7 3 1 2 5 8 0 1 4 3 8 1 8 4 0 2 8 0 2 8 0\n",
      " 0 5 6 0 5 5 2 3 3 1 5 8 4 1 5 0 6 5 3 0 4 1 7 8 0 4 4 1 2 7 0 3 8 8 8 1 7\n",
      " 0 2 8 5 6 7 8 1 3 7 6 7 1 7 4 7 0 3 7 4 4 2 4 6 3]\n",
      "(136, 16, 91)\n"
     ]
    }
   ],
   "source": [
    "a = np.zeros((136, 16, 10, 91))\n",
    "print(a.shape)\n",
    "b = np.arange(0, a.shape[0], 1)\n",
    "print(len(b))\n",
    "c = np.random.randint(0,9, len(b))\n",
    "print(c)\n",
    "#lets try to grab the 1st presentation for spine 1 and the second for spine 2\n",
    "sliced = a[b, :, c, :]\n",
    "print(sliced.shape)"
   ]
  },
  {
   "cell_type": "code",
   "execution_count": 61,
   "id": "a3570ec3-d33a-463b-8a07-2c6d50b6c288",
   "metadata": {},
   "outputs": [
    {
     "name": "stdout",
     "output_type": "stream",
     "text": [
      "(2, 6)\n"
     ]
    },
    {
     "data": {
      "text/plain": [
       "array([ 7,  2,  9,  4, 11,  6])"
      ]
     },
     "execution_count": 61,
     "metadata": {},
     "output_type": "execute_result"
    }
   ],
   "source": [
    "a = np.array([[1,2,3,4,5,6], [7,8,9,10,11,12]])\n",
    "print(a.shape)\n",
    "a[(1,0,1,0,1,0), (0,1,2,3,4,5)]"
   ]
  },
  {
   "cell_type": "code",
   "execution_count": 19,
   "id": "a6cc9d70-55a2-4911-987f-cc4ef3beb5dd",
   "metadata": {},
   "outputs": [
    {
     "name": "stdout",
     "output_type": "stream",
     "text": [
      "(16, 10, 91)\n",
      "(16, 10, 20)\n"
     ]
    }
   ],
   "source": [
    "spine_sub_traces = comp.select_timesteps(spine_traces)\n",
    "print(spine_traces.shape)\n",
    "print(spine_sub_traces.shape)"
   ]
  },
  {
   "cell_type": "code",
   "execution_count": 20,
   "id": "25a19b98-b82a-4059-a80c-eaa81525f47e",
   "metadata": {},
   "outputs": [
    {
     "data": {
      "text/plain": [
       "<Figure size 640x480 with 8 Axes>"
      ]
     },
     "metadata": {},
     "output_type": "display_data"
    }
   ],
   "source": [
    "plot.plot_activity_plots(spine_sub_traces)"
   ]
  },
  {
   "cell_type": "code",
   "execution_count": 21,
   "id": "ea985509-0d25-46df-a754-614995bdf979",
   "metadata": {},
   "outputs": [
    {
     "data": {
      "text/plain": [
       "<Figure size 640x480 with 8 Axes>"
      ]
     },
     "metadata": {},
     "output_type": "display_data"
    }
   ],
   "source": [
    "plot.plot_activity_plots(soma_sub_traces)"
   ]
  },
  {
   "cell_type": "code",
   "execution_count": 232,
   "id": "dfa86d77-eca8-4d38-b7e1-14c709f837ac",
   "metadata": {},
   "outputs": [
    {
     "name": "stdout",
     "output_type": "stream",
     "text": [
      "[ 0  1  2  3  4  5  6  7  8  9 10 11 12 13]\n",
      "[ 0  1  2  3  4  5  6  7  8  9 10 11]\n",
      "[ 0  1  2  3  4  5  6  7  8  9 10 11 12 13 14 15 16]\n",
      "[ 0  1  2  3  4  5  6  7  8  9 10 11]\n",
      "[0 1 2 3 4 5 6 7 8]\n",
      "[ 0  1  2  3  4  5  6  7  8  9 10 11 12]\n",
      "[ 0  1  2  3  4  5  6  7  8  9 10 11 12 13 14 15]\n",
      "[ 0  1  2  3  4  5  6  7  8  9 10 11 12]\n",
      "[0 1 2 3 4 5 6 7 8 9]\n",
      "[ 0  1  2  3  4  5  6  7  8  9 10 11 12 13]\n",
      "[0 1 2 3 4 5]\n",
      "####\n",
      "[0, 1, 2, 3, 4, 5, 7, 8, 9, 10, 12, 13, 14, 16, 18, 21, 23, 26, 28, 31, 32, 33, 36, 37, 39, 40, 42, 47, 50, 62, 73, 74, 80, 83, 84, 85, 86, 87, 94, 95, 97, 101, 103, 111, 113, 115, 120, 122, 126, 129, 132, 134, 135]\n",
      "[6, 11, 15, 17, 19, 20, 22, 24, 25, 27, 29, 30, 34, 35, 38, 41, 43, 44, 45, 46, 48, 49, 51, 52, 53, 54, 55, 56, 57, 58, 59, 60, 61, 63, 64, 65, 66, 67, 68, 69, 70, 71, 72, 75, 76, 77, 78, 79, 81, 82, 88, 89, 90, 91, 92, 93, 96, 98, 99, 100, 102, 104, 105, 106, 107, 108, 109, 110, 112, 114, 116, 117, 118, 119, 121, 123, 124, 125, 127, 128, 130, 131, 133]\n"
     ]
    }
   ],
   "source": [
    "all_spine_activity_array, spines_per_fov_list = comp.compile_spine_traces(spine_data, subset='all')\n",
    "\n",
    "zeta_list = []\n",
    "for i, (fov_activity_meta, fov_metadata )in enumerate(hf.fov_generator(spine_data)):\n",
    "    zeta_list.extend(list(hf.get_fov_zetas(fov_activity_meta)))\n",
    "\n",
    "similarity_list, spine_num_list = plot.get_most_similar_spine(soma_data, all_spine_activity_array)\n",
    "#spine_means, spine_means_sorted, spine_bool = plot.produce_activity_plots(best_match_traces)  \n",
    "responsive_idxs = list(np.where(np.array(zeta_list) <=.05)[0])\n",
    "responsive_ranks = []\n",
    "for i, spine_idx in enumerate(spine_num_list):\n",
    "    if spine_idx in responsive_idxs:\n",
    "        responsive_ranks.append(i)\n",
    "print(responsive_ranks)\n",
    "\n",
    "unresponsive_idxs = list(np.where(np.array(zeta_list) >.05)[0])\n",
    "unresponsive_ranks = []\n",
    "for i, spine_idx in enumerate(spine_num_list):\n",
    "    if spine_idx in unresponsive_idxs:\n",
    "        unresponsive_ranks.append(i)\n",
    "print(unresponsive_ranks)"
   ]
  },
  {
   "cell_type": "code",
   "execution_count": 233,
   "id": "c8a5b0c7-3937-4a3b-8d68-1977c5079f12",
   "metadata": {},
   "outputs": [
    {
     "name": "stdout",
     "output_type": "stream",
     "text": [
      "global spine_num: 19, this is the 5th spine in fov 1\n",
      "global spine_num: 101, this is the 8th spine in fov 7\n",
      "global spine_num: 47, this is the 4th spine in fov 3\n",
      "global spine_num: 17, this is the 3th spine in fov 1\n",
      "global spine_num: 0, this is the 0th spine in fov 0\n",
      "global spine_num: 8, this is the 8th spine in fov 0\n",
      "global spine_num: 45, this is the 2th spine in fov 3\n",
      "global spine_num: 97, this is the 4th spine in fov 7\n",
      "global spine_num: 41, this is the 15th spine in fov 2\n",
      "global spine_num: 132, this is the 2th spine in fov 10\n"
     ]
    },
    {
     "data": {
      "text/plain": [
       "<Figure size 640x480 with 8 Axes>"
      ]
     },
     "metadata": {},
     "output_type": "display_data"
    },
    {
     "data": {
      "text/plain": [
       "<Figure size 640x480 with 8 Axes>"
      ]
     },
     "metadata": {},
     "output_type": "display_data"
    },
    {
     "data": {
      "text/plain": [
       "<Figure size 640x480 with 8 Axes>"
      ]
     },
     "metadata": {},
     "output_type": "display_data"
    },
    {
     "data": {
      "text/plain": [
       "<Figure size 640x480 with 8 Axes>"
      ]
     },
     "metadata": {},
     "output_type": "display_data"
    },
    {
     "data": {
      "text/plain": [
       "<Figure size 640x480 with 8 Axes>"
      ]
     },
     "metadata": {},
     "output_type": "display_data"
    },
    {
     "data": {
      "text/plain": [
       "<Figure size 640x480 with 8 Axes>"
      ]
     },
     "metadata": {},
     "output_type": "display_data"
    },
    {
     "data": {
      "text/plain": [
       "<Figure size 640x480 with 8 Axes>"
      ]
     },
     "metadata": {},
     "output_type": "display_data"
    },
    {
     "data": {
      "text/plain": [
       "<Figure size 640x480 with 8 Axes>"
      ]
     },
     "metadata": {},
     "output_type": "display_data"
    },
    {
     "data": {
      "text/plain": [
       "<Figure size 640x480 with 8 Axes>"
      ]
     },
     "metadata": {},
     "output_type": "display_data"
    },
    {
     "data": {
      "text/plain": [
       "<Figure size 640x480 with 8 Axes>"
      ]
     },
     "metadata": {},
     "output_type": "display_data"
    }
   ],
   "source": [
    "#for rank in range(10):\n",
    "for rank in unresponsive_ranks[:10]:\n",
    "#for rank in responsive_ranks[:10]:\n",
    "    #best_match_traces = comp.get_traces(spine_data, fov=fov_num_list[rank], spine_index=spine_num_list[rank])\n",
    "    best_match_traces = comp.select_timesteps(all_spine_activity_array[spine_num_list[rank],:,:,:])\n",
    "    global_spine_num = spine_num_list[rank]\n",
    "    (fov_i, spine_fov_i) = hf.get_fov_idx_from_all_spine_idx(global_spine_num, spine_data)\n",
    "    print(f'global spine_num: {global_spine_num}, this is the {spine_fov_i}th spine in fov {fov_i}')\n",
    "    plot.plot_activity_plots(np.array(best_match_traces))"
   ]
  },
  {
   "cell_type": "code",
   "execution_count": null,
   "id": "a6fc7d10-44b2-4e2e-82dd-c4de57967cc9",
   "metadata": {},
   "outputs": [],
   "source": []
  },
  {
   "cell_type": "code",
   "execution_count": null,
   "id": "ecae0676",
   "metadata": {},
   "outputs": [],
   "source": [
    "stim_repeats = 10\n",
    "\n",
    "\n",
    "np.random.randint(0,stim_repeats, (3,4,5))"
   ]
  },
  {
   "cell_type": "code",
   "execution_count": null,
   "id": "a4a87073",
   "metadata": {},
   "outputs": [],
   "source": [
    "fov = 0\n",
    "type(fov) is int"
   ]
  },
  {
   "cell_type": "code",
   "execution_count": 31,
   "id": "c06df7c9",
   "metadata": {},
   "outputs": [],
   "source": [
    "a = np.array([0,0,2,0,0,0,1,0,0,0,0,0,0,3,0,0])"
   ]
  },
  {
   "cell_type": "code",
   "execution_count": null,
   "id": "91273c82-03c6-48a3-9958-85a65271afe8",
   "metadata": {},
   "outputs": [],
   "source": []
  },
  {
   "cell_type": "code",
   "execution_count": 32,
   "id": "68cc5f82-af75-49e3-be8a-23511b7c4b2e",
   "metadata": {},
   "outputs": [
    {
     "data": {
      "text/plain": [
       "array([1, 0, 0, 0, 0, 0, 0, 3, 0, 0, 0, 0, 2, 0, 0, 0])"
      ]
     },
     "execution_count": 32,
     "metadata": {},
     "output_type": "execute_result"
    }
   ],
   "source": [
    "np.roll(a, -(np.argmax(a)-7))"
   ]
  },
  {
   "cell_type": "code",
   "execution_count": 33,
   "id": "92fe8f25-97a7-4415-bf5a-08ff39e1edb4",
   "metadata": {
    "lines_to_next_cell": 2
   },
   "outputs": [
    {
     "data": {
      "text/plain": [
       "12"
      ]
     },
     "execution_count": 33,
     "metadata": {},
     "output_type": "execute_result"
    }
   ],
   "source": [
    "-4%16"
   ]
  },
  {
   "cell_type": "code",
   "execution_count": 43,
   "id": "0c7e0842-c8e6-43cf-a109-1639187be6cc",
   "metadata": {
    "lines_to_next_cell": 2
   },
   "outputs": [],
   "source": [
    "import matplotlib.colors as cm"
   ]
  },
  {
   "cell_type": "code",
   "execution_count": 46,
   "id": "24110b46-ef11-492a-a33e-fc6a3100bbb7",
   "metadata": {},
   "outputs": [],
   "source": [
    "num_cells = 20\n",
    "responsive_colors = [ plt.get_cmap('autumn')(x) for x in np.linspace(0, 1, num_cells)]\n",
    "unresponsive_colors = [ plt.get_cmap('winter')(x) for x in np.linspace(0, 1, num_cells)]\n",
    "#From here https://stackoverflow.com/questions/8931268/using-colormaps-to-set-color-of-line-in-matplotlib "
   ]
  },
  {
   "cell_type": "code",
   "execution_count": 47,
   "id": "dcd9c493-eaf4-43b1-bd88-a8c5d955b58c",
   "metadata": {},
   "outputs": [
    {
     "data": {
      "text/plain": [
       "<Figure size 640x480 with 1 Axes>"
      ]
     },
     "metadata": {},
     "output_type": "display_data"
    }
   ],
   "source": [
    "responsive_count = 0\n",
    "unresponsive_count = 0\n",
    "for i in range(num_cells):\n",
    "    data = np.random.random(16)\n",
    "    if i%2:\n",
    "        color_val = responsive_colors[responsive_count]\n",
    "        responsive_count+=1\n",
    "    else:\n",
    "        color_val = unresponsive_colors[unresponsive_count]\n",
    "        unresponsive_count+=1\n",
    "    plt.plot(data, color=color_val)"
   ]
  },
  {
   "cell_type": "code",
   "execution_count": 54,
   "id": "577cca2b-82f5-4ab0-a694-72216fe1a9b6",
   "metadata": {},
   "outputs": [],
   "source": [
    "soma_field_2 = io._todict(soma_data[2])\n",
    "tuning_curve = hf.get_precomputed_tuning_curve(soma_data)\n",
    "preferred_stim_index = np.argmax(tuning_curve)\n",
    "zeta_results = soma_field_2['ZETA_test_dir'][preferred_stim_index]\n",
    "p_value = io._todict(zeta_results)['dblP']"
   ]
  },
  {
   "cell_type": "code",
   "execution_count": 55,
   "id": "c89e0170-fe88-48a3-9f2c-2e53cbab9d90",
   "metadata": {},
   "outputs": [
    {
     "name": "stdout",
     "output_type": "stream",
     "text": [
      "0.0012209905874881466\n"
     ]
    }
   ],
   "source": [
    "print(p_value)"
   ]
  },
  {
   "cell_type": "code",
   "execution_count": 151,
   "id": "64120f38-cc55-4412-b90b-01e482aa7b12",
   "metadata": {
    "lines_to_next_cell": 2
   },
   "outputs": [
    {
     "name": "stderr",
     "output_type": "stream",
     "text": [
      "/Users/Gregg/code/replace_with_env_name/src/config.py:51: SyntaxWarning: assertion is always true, perhaps remove parentheses?\n",
      "  assert((end_s-start_s)%seconds_per_bin==0, 'The time range must be evenly divisible by the bin size')\n"
     ]
    }
   ],
   "source": [
    "from scipy import stats\n",
    "from PIL import Image\n",
    "import imageio"
   ]
  },
  {
   "cell_type": "code",
   "execution_count": 61,
   "id": "0b7a7957-f8b8-43fe-ac15-e4bbf74232f8",
   "metadata": {
    "lines_to_next_cell": 2
   },
   "outputs": [
    {
     "data": {
      "text/plain": [
       "PearsonRResult(statistic=0.9999999999999998, pvalue=1.3415758552508151e-08)"
      ]
     },
     "execution_count": 61,
     "metadata": {},
     "output_type": "execute_result"
    }
   ],
   "source": [
    "stats.pearsonr([1,2,3], [4,5,6])\n"
   ]
  },
  {
   "cell_type": "code",
   "execution_count": 166,
   "id": "4102a764-34c6-4198-86e7-5513fde7daaa",
   "metadata": {},
   "outputs": [],
   "source": [
    "test_array = np.random.randint(0,200,(16,16))\n",
    "test_array = np.random.rand(16,16)#*30\n",
    "data = test_array\n",
    "path = 'demo_data/my_image.tiff'\n",
    "img1 = Image.fromarray(data)\n",
    "img1.save(path)\n",
    "test_read = np.array(Image.open(path))\n",
    "\n",
    "#f1 = list(img1.getdata())\n",
    "#f2 = list(img2.getdata())\n",
    "#print(f1 == f2)\n",
    "#print(f1)\n",
    "\n",
    "#test_array = np.tile(test_array,(3,1,1))\n",
    "#test_array = np.moveaxis(test_array,0, 2)\n",
    "#print(test_array.shape)\n",
    "#im_pil = Image.fromarray(test_array)\n",
    "##from here https://stackoverflow.com/questions/71272571/cant-recover-the-same-numpy-array-from-pil-saved-png-image\n",
    "#path = 'demo_data/my_image.Tiff'\n",
    "#im_pil.save(f, 'TIFF')\n",
    "#plt.imsave(path, test_array, cmap=plt.cm.gray)"
   ]
  },
  {
   "cell_type": "code",
   "execution_count": 167,
   "id": "c9703433-075c-40f4-a2ea-deb8dac87ec9",
   "metadata": {},
   "outputs": [
    {
     "data": {
      "text/plain": [
       "(16, 16)"
      ]
     },
     "execution_count": 167,
     "metadata": {},
     "output_type": "execute_result"
    }
   ],
   "source": [
    "with Image.open(path) as im:\n",
    "        test_read = np.array(im)\n",
    "test_read.shape"
   ]
  },
  {
   "cell_type": "code",
   "execution_count": 168,
   "id": "4005856c-7b23-4b63-be48-da9727abc865",
   "metadata": {
    "lines_to_next_cell": 2
   },
   "outputs": [
    {
     "data": {
      "text/plain": [
       "array([ 2.1552205,  5.1438   ,  3.8143601, 18.655315 , 16.115036 ,\n",
       "       10.827108 , 27.535976 ,  6.524315 , 17.183922 ,  6.253901 ,\n",
       "       15.734637 , 19.458038 , 14.564917 , 10.392739 ,  0.4683412,\n",
       "       11.050704 ], dtype=float32)"
      ]
     },
     "execution_count": 168,
     "metadata": {},
     "output_type": "execute_result"
    }
   ],
   "source": [
    "test_read[0,:]"
   ]
  },
  {
   "cell_type": "code",
   "execution_count": 169,
   "id": "5c544b12-984b-4cbc-8068-76930dcd01c8",
   "metadata": {},
   "outputs": [
    {
     "data": {
      "text/plain": [
       "array([ 2.15522059,  5.14379987,  3.81436011, 18.65531625, 16.11503582,\n",
       "       10.82710822, 27.53597722,  6.52431511, 17.18392107,  6.25390081,\n",
       "       15.73463764, 19.45803839, 14.56491649, 10.39273956,  0.46834119,\n",
       "       11.05070358])"
      ]
     },
     "execution_count": 169,
     "metadata": {},
     "output_type": "execute_result"
    }
   ],
   "source": [
    "test_array[0,:]"
   ]
  },
  {
   "cell_type": "code",
   "execution_count": 7,
   "id": "a31d14bb-84d7-45fe-a33d-d65eb7610707",
   "metadata": {},
   "outputs": [],
   "source": [
    "import pandas as pd\n",
    "import seaborn as sns\n"
   ]
  },
  {
   "cell_type": "code",
   "execution_count": 10,
   "id": "8f358129",
   "metadata": {},
   "outputs": [
    {
     "data": {
      "text/html": [
       "<div>\n",
       "<style scoped>\n",
       "    .dataframe tbody tr th:only-of-type {\n",
       "        vertical-align: middle;\n",
       "    }\n",
       "\n",
       "    .dataframe tbody tr th {\n",
       "        vertical-align: top;\n",
       "    }\n",
       "\n",
       "    .dataframe thead th {\n",
       "        text-align: right;\n",
       "    }\n",
       "</style>\n",
       "<table border=\"1\" class=\"dataframe\">\n",
       "  <thead>\n",
       "    <tr style=\"text-align: right;\">\n",
       "      <th></th>\n",
       "      <th>experiment_id</th>\n",
       "      <th>model_type</th>\n",
       "      <th>model_correlation_to_soma_r</th>\n",
       "      <th>model_correlation_to_soma_p</th>\n",
       "      <th>model_soma_similarity_score</th>\n",
       "      <th>responsive_status</th>\n",
       "    </tr>\n",
       "  </thead>\n",
       "  <tbody>\n",
       "    <tr>\n",
       "      <th>0</th>\n",
       "      <td>ASC18 cell 2</td>\n",
       "      <td>democratic</td>\n",
       "      <td>-0.003663</td>\n",
       "      <td>0.989259</td>\n",
       "      <td>0.127735</td>\n",
       "      <td>unresponsive</td>\n",
       "    </tr>\n",
       "    <tr>\n",
       "      <th>1</th>\n",
       "      <td>ASC18 cell 2</td>\n",
       "      <td>spine_size</td>\n",
       "      <td>0.014303</td>\n",
       "      <td>0.958073</td>\n",
       "      <td>0.144695</td>\n",
       "      <td>unresponsive</td>\n",
       "    </tr>\n",
       "    <tr>\n",
       "      <th>2</th>\n",
       "      <td>ASC18 cell 2</td>\n",
       "      <td>distance_to_soma</td>\n",
       "      <td>-0.026346</td>\n",
       "      <td>0.922845</td>\n",
       "      <td>0.129383</td>\n",
       "      <td>unresponsive</td>\n",
       "    </tr>\n",
       "    <tr>\n",
       "      <th>3</th>\n",
       "      <td>ASC18 cell 2</td>\n",
       "      <td>unresponsive</td>\n",
       "      <td>0.002488</td>\n",
       "      <td>0.992704</td>\n",
       "      <td>0.131316</td>\n",
       "      <td>unresponsive</td>\n",
       "    </tr>\n",
       "    <tr>\n",
       "      <th>4</th>\n",
       "      <td>ASC18 cell 2</td>\n",
       "      <td>responsive</td>\n",
       "      <td>-0.265595</td>\n",
       "      <td>0.320120</td>\n",
       "      <td>0.130932</td>\n",
       "      <td>unresponsive</td>\n",
       "    </tr>\n",
       "  </tbody>\n",
       "</table>\n",
       "</div>"
      ],
      "text/plain": [
       "  experiment_id        model_type  model_correlation_to_soma_r  \\\n",
       "0  ASC18 cell 2        democratic                    -0.003663   \n",
       "1  ASC18 cell 2        spine_size                     0.014303   \n",
       "2  ASC18 cell 2  distance_to_soma                    -0.026346   \n",
       "3  ASC18 cell 2      unresponsive                     0.002488   \n",
       "4  ASC18 cell 2        responsive                    -0.265595   \n",
       "\n",
       "   model_correlation_to_soma_p  model_soma_similarity_score responsive_status  \n",
       "0                     0.989259                     0.127735      unresponsive  \n",
       "1                     0.958073                     0.144695      unresponsive  \n",
       "2                     0.922845                     0.129383      unresponsive  \n",
       "3                     0.992704                     0.131316      unresponsive  \n",
       "4                     0.320120                     0.130932      unresponsive  "
      ]
     },
     "execution_count": 10,
     "metadata": {},
     "output_type": "execute_result"
    }
   ],
   "source": [
    "fullpath = \"/Users/Gregg/Dropbox (MIT)/2021 Gregg Sur rotation/ASC_experimental_data/adult_spine_model_results/single_neuron_simulation_scores.csv\"\n",
    "df = pd.read_csv(fullpath, index_col=0)\n",
    "df.head()"
   ]
  },
  {
   "cell_type": "code",
   "execution_count": 12,
   "id": "7959caa6-f1b6-443c-8735-5b0de8394190",
   "metadata": {},
   "outputs": [
    {
     "data": {
      "text/html": [
       "<div>\n",
       "<style scoped>\n",
       "    .dataframe tbody tr th:only-of-type {\n",
       "        vertical-align: middle;\n",
       "    }\n",
       "\n",
       "    .dataframe tbody tr th {\n",
       "        vertical-align: top;\n",
       "    }\n",
       "\n",
       "    .dataframe thead th {\n",
       "        text-align: right;\n",
       "    }\n",
       "</style>\n",
       "<table border=\"1\" class=\"dataframe\">\n",
       "  <thead>\n",
       "    <tr style=\"text-align: right;\">\n",
       "      <th></th>\n",
       "      <th>group</th>\n",
       "      <th>block</th>\n",
       "      <th>cond</th>\n",
       "      <th>value</th>\n",
       "    </tr>\n",
       "  </thead>\n",
       "  <tbody>\n",
       "    <tr>\n",
       "      <th>0</th>\n",
       "      <td>1</td>\n",
       "      <td>1</td>\n",
       "      <td>c1</td>\n",
       "      <td>1.0</td>\n",
       "    </tr>\n",
       "    <tr>\n",
       "      <th>1</th>\n",
       "      <td>1</td>\n",
       "      <td>1</td>\n",
       "      <td>c2</td>\n",
       "      <td>2.0</td>\n",
       "    </tr>\n",
       "    <tr>\n",
       "      <th>2</th>\n",
       "      <td>1</td>\n",
       "      <td>2</td>\n",
       "      <td>c1</td>\n",
       "      <td>1.2</td>\n",
       "    </tr>\n",
       "    <tr>\n",
       "      <th>3</th>\n",
       "      <td>1</td>\n",
       "      <td>2</td>\n",
       "      <td>c2</td>\n",
       "      <td>2.1</td>\n",
       "    </tr>\n",
       "    <tr>\n",
       "      <th>4</th>\n",
       "      <td>1</td>\n",
       "      <td>3</td>\n",
       "      <td>c1</td>\n",
       "      <td>1.1</td>\n",
       "    </tr>\n",
       "  </tbody>\n",
       "</table>\n",
       "</div>"
      ],
      "text/plain": [
       "   group  block cond  value\n",
       "0      1      1   c1    1.0\n",
       "1      1      1   c2    2.0\n",
       "2      1      2   c1    1.2\n",
       "3      1      2   c2    2.1\n",
       "4      1      3   c1    1.1"
      ]
     },
     "execution_count": 12,
     "metadata": {},
     "output_type": "execute_result"
    }
   ],
   "source": [
    "data = {'group': [1, 1, 1, 1, 1, 1, 2, 2, 2, 2, 2, 2],\n",
    "        'block': [1, 1, 2, 2, 3, 3, 1, 1, 2, 2, 3, 3],\n",
    "        'cond': ['c1', 'c2', 'c1', 'c2', 'c1', 'c2', 'c1', 'c2', 'c1', 'c2', 'c1', 'c2'],\n",
    "        'value': [1, 2, 1.2, 2.1, 1.1, 2.2, 3, 4, 3.3, 4.1, 3.1, 4]}\n",
    "df_2=pd.DataFrame(data)\n",
    "df_2.head()"
   ]
  },
  {
   "cell_type": "code",
   "execution_count": null,
   "id": "b41ea752-b1e2-4f51-a1e5-98dddb5c5319",
   "metadata": {},
   "outputs": [],
   "source": [
    "sns.lineplot(data=df.loc[df['unrespons'] == 1], x='block', y='value', hue='cond',\n",
    "             palette='Blues', marker='o')\n",
    "sns.lineplot(data=df.loc[df['group'] == 2], x='block', y='value', hue='cond',\n",
    "             palette='Reds', marker='o')\n",
    "\n",
    "## Get the legend handles and add them to plt.legend, so that the right handles are addigned\n",
    "legend_handles, _= plt.gca().get_legend_handles_labels()\n",
    "plt.legend(handles = legend_handles, title='Legend', loc='right',\n",
    "           labels=['Group 1: C1', 'Group 1: C2', 'Group 2: C1', 'Group 2: C2'])\n",
    "plt.show()"
   ]
  }
 ],
 "metadata": {
  "colab": {
   "include_colab_link": true,
   "name": "notebook.ipynb",
   "provenance": []
  },
  "jupytext": {
   "formats": "ipynb,py,md"
  },
  "kernelspec": {
   "display_name": "Python 3 (ipykernel)",
   "language": "python",
   "name": "python3"
  },
  "language_info": {
   "codemirror_mode": {
    "name": "ipython",
    "version": 3
   },
   "file_extension": ".py",
   "mimetype": "text/x-python",
   "name": "python",
   "nbconvert_exporter": "python",
   "pygments_lexer": "ipython3",
   "version": "3.10.8"
  }
 },
 "nbformat": 4,
 "nbformat_minor": 5
}
