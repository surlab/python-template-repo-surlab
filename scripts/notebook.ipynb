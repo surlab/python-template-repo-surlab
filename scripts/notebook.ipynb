{
 "cells": [
  {
   "cell_type": "markdown",
   "id": "bb076a2a",
   "metadata": {
    "colab_type": "text",
    "id": "view-in-github",
    "lines_to_next_cell": 0
   },
   "source": [
    "<a href=\"https://colab.research.google.com/github/GreggHeller1/replace_with_env_name/blob/main/scripts/notebook.ipynb\" target=\"_parent\"><img src=\"https://colab.research.google.com/assets/colab-badge.svg\" alt=\"Open In Colab\"/></a>"
   ]
  },
  {
   "cell_type": "code",
   "execution_count": 9,
   "id": "71ee021b",
   "metadata": {
    "id": "71ee021b",
    "lines_to_next_cell": 0
   },
   "outputs": [
    {
     "name": "stdout",
     "output_type": "stream",
     "text": [
      "The autoreload extension is already loaded. To reload it, use:\n",
      "  %reload_ext autoreload\n",
      "False\n"
     ]
    }
   ],
   "source": [
    "#settings\n",
    "%load_ext autoreload\n",
    "%autoreload 2\n",
    "try:\n",
    "  import google.colab\n",
    "  in_colab = True\n",
    "except:\n",
    "  in_colab = False\n",
    "print(in_colab)"
   ]
  },
  {
   "cell_type": "code",
   "execution_count": 10,
   "id": "4e02e926",
   "metadata": {
    "colab": {
     "base_uri": "https://localhost:8080/"
    },
    "id": "4e02e926",
    "lines_to_next_cell": 0,
    "outputId": "84475a29-508b-4d96-adf5-e85665e994d2"
   },
   "outputs": [],
   "source": [
    "#installs (for colab only, run this once)\n",
    "if in_colab:\n",
    "    ! git clone https://github.com/GreggHeller1/replace_with_env_name.git"
   ]
  },
  {
   "cell_type": "code",
   "execution_count": 11,
   "id": "5e9731ca",
   "metadata": {
    "id": "5e9731ca",
    "lines_to_next_cell": 0
   },
   "outputs": [
    {
     "ename": "ModuleNotFoundError",
     "evalue": "No module named 'xarray'",
     "output_type": "error",
     "traceback": [
      "\u001b[1;31m---------------------------------------------------------------------------\u001b[0m",
      "\u001b[1;31mModuleNotFoundError\u001b[0m                       Traceback (most recent call last)",
      "Cell \u001b[1;32mIn[11], line 8\u001b[0m\n\u001b[0;32m      6\u001b[0m \u001b[38;5;28;01mfrom\u001b[39;00m \u001b[38;5;21;01msrc\u001b[39;00m \u001b[38;5;28;01mimport\u001b[39;00m data_io \u001b[38;5;28;01mas\u001b[39;00m io\n\u001b[0;32m      7\u001b[0m \u001b[38;5;28;01mfrom\u001b[39;00m \u001b[38;5;21;01msrc\u001b[39;00m \u001b[38;5;28;01mimport\u001b[39;00m plotting \u001b[38;5;28;01mas\u001b[39;00m plot\n\u001b[1;32m----> 8\u001b[0m \u001b[38;5;28;01mfrom\u001b[39;00m \u001b[38;5;21;01msrc\u001b[39;00m \u001b[38;5;28;01mimport\u001b[39;00m computation \u001b[38;5;28;01mas\u001b[39;00m comp\n\u001b[0;32m      9\u001b[0m \u001b[38;5;28;01mfrom\u001b[39;00m \u001b[38;5;21;01msrc\u001b[39;00m \u001b[38;5;28;01mimport\u001b[39;00m helper_functions \u001b[38;5;28;01mas\u001b[39;00m hf\n\u001b[0;32m     10\u001b[0m \u001b[38;5;28;01mimport\u001b[39;00m \u001b[38;5;21;01mmain\u001b[39;00m\n",
      "File \u001b[1;32mc:\\users\\gregg\\dropbox (mit)\\gregg_code\\prachi_percent_rescue\\src\\computation.py:4\u001b[0m\n\u001b[0;32m      2\u001b[0m \u001b[38;5;28;01mfrom\u001b[39;00m \u001b[38;5;21;01msrc\u001b[39;00m \u001b[38;5;28;01mimport\u001b[39;00m config \u001b[38;5;28;01mas\u001b[39;00m cfg\n\u001b[0;32m      3\u001b[0m \u001b[38;5;28;01mfrom\u001b[39;00m \u001b[38;5;21;01msrc\u001b[39;00m \u001b[38;5;28;01mimport\u001b[39;00m helper_functions \u001b[38;5;28;01mas\u001b[39;00m hf\n\u001b[1;32m----> 4\u001b[0m \u001b[38;5;28;01mimport\u001b[39;00m \u001b[38;5;21;01mxarray\u001b[39;00m \u001b[38;5;28;01mas\u001b[39;00m \u001b[38;5;21;01mxr\u001b[39;00m\n",
      "\u001b[1;31mModuleNotFoundError\u001b[0m: No module named 'xarray'"
     ]
    }
   ],
   "source": [
    "#local imports\n",
    "#cwd if in colab for imports to work\n",
    "if in_colab:\n",
    "    %cd /content/replace_with_env_name\n",
    "    \n",
    "from src import data_io as io\n",
    "from src import plotting as plot\n",
    "from src import computation as comp\n",
    "from src import helper_functions as hf\n",
    "import main"
   ]
  },
  {
   "cell_type": "code",
   "execution_count": 14,
   "id": "db51ef2e",
   "metadata": {
    "id": "db51ef2e",
    "lines_to_next_cell": 0
   },
   "outputs": [],
   "source": [
    "#imports\n",
    "import os\n",
    "\n",
    "#import xarray as xr\n",
    "#import pandas as pd\n",
    "#import numpy as np\n",
    "#import ipdb\n",
    "#from matplotlib import pyplot as plt\n",
    "#from PIL import Image #this needs to be after matplotlib??\n",
    "#from scipy.stats import stats   \n",
    "#from neuron import h, gui"
   ]
  },
  {
   "cell_type": "code",
   "execution_count": 9,
   "id": "a06b6e4a",
   "metadata": {
    "colab": {
     "base_uri": "https://localhost:8080/"
    },
    "id": "a06b6e4a",
    "outputId": "989c69e2-c8c4-43e0-9ba6-7a36f66be4c3"
   },
   "outputs": [
    {
     "name": "stdout",
     "output_type": "stream",
     "text": [
      "demo_data\\test.txt\n",
      "C:\\Users\\Gregg\\Dropbox (MIT)\\gregg_code\\python-template-repo-surlab\\scripts\n",
      "False\n",
      "False\n"
     ]
    }
   ],
   "source": [
    "#define paths\n",
    "#cwd if in colab for file loading to work\n",
    "if in_colab:\n",
    "    %cd /content/replace_with_env_name/scripts\n",
    "    \n",
    "print(os.getcwd())\n",
    "base_dir = os.path.split(os.getcwd())[0]\n",
    "test_path = os.path.join(base_dir, 'demo_data', 'test.txt')\n",
    "print(test_path)\n",
    "print(os.path.exists(test_path))\n",
    "\n",
    "data_path = \"your data path here\"\n",
    "print(os.path.exists(data_path))"
   ]
  },
  {
   "cell_type": "code",
   "execution_count": 13,
   "id": "b3586a50",
   "metadata": {
    "colab": {
     "base_uri": "https://localhost:8080/"
    },
    "id": "b3586a50",
    "lines_to_next_cell": 0,
    "outputId": "56f159c6-3dbc-4b37-d217-083fb5d2e792"
   },
   "outputs": [],
   "source": [
    "#data inputs\n",
    "loaded_data = main.main_io()"
   ]
  },
  {
   "cell_type": "code",
   "execution_count": 10,
   "id": "82a5927b",
   "metadata": {
    "id": "82a5927b",
    "lines_to_next_cell": 0
   },
   "outputs": [],
   "source": [
    "#data manipulation\n",
    "results = main.main_computation(loaded_data)"
   ]
  },
  {
   "cell_type": "code",
   "execution_count": 12,
   "id": "1be2f924-d838-4eb6-bf87-9123b8491188",
   "metadata": {},
   "outputs": [],
   "source": [
    "#debug speed \n",
    "#import cProfile\n",
    "#cProfile.run('main.main_computation(loaded_data)')"
   ]
  },
  {
   "cell_type": "code",
   "execution_count": null,
   "id": "a42fba99-18bd-4319-bc57-3af0da5f05bb",
   "metadata": {},
   "outputs": [],
   "source": [
    "#save results\n",
    "main.main_saving(results)"
   ]
  },
  {
   "cell_type": "code",
   "execution_count": null,
   "id": "2f00bcf9-61dd-4395-8770-a6d311c58518",
   "metadata": {},
   "outputs": [],
   "source": [
    "#reload results for plotting\n",
    "loaded_results = main.reload_results_for_plotting()"
   ]
  },
  {
   "cell_type": "code",
   "execution_count": null,
   "id": "609b8094-9afd-4132-b320-d6d7fbe3edb4",
   "metadata": {},
   "outputs": [],
   "source": [
    "#make and save plots\n",
    "main.main_plotting(loaded_results)"
   ]
  }
 ],
 "metadata": {
  "colab": {
   "include_colab_link": true,
   "name": "notebook.ipynb",
   "provenance": []
  },
  "jupytext": {
   "formats": "ipynb,py,md"
  },
  "kernelspec": {
   "display_name": "Python 3 (ipykernel)",
   "language": "python",
   "name": "python3"
  },
  "language_info": {
   "codemirror_mode": {
    "name": "ipython",
    "version": 3
   },
   "file_extension": ".py",
   "mimetype": "text/x-python",
   "name": "python",
   "nbconvert_exporter": "python",
   "pygments_lexer": "ipython3",
   "version": "3.8.19"
  }
 },
 "nbformat": 4,
 "nbformat_minor": 5
}
